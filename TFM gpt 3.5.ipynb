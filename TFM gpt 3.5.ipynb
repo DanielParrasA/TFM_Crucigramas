{
 "cells": [
  {
   "cell_type": "code",
   "execution_count": 1,
   "id": "7c9d3aa3",
   "metadata": {},
   "outputs": [],
   "source": [
    "import openai\n",
    "import pandas as pd\n",
    "\n",
    "openai.api_key = \"\" \n"
   ]
  },
  {
   "cell_type": "code",
   "execution_count": 2,
   "id": "3e8f0153",
   "metadata": {},
   "outputs": [],
   "source": [
    "#palabras = [\"sargatillo\", \"sargazo\"]\n",
    "\n",
    "df_palabras = pd.read_csv(\"a.csv\")\n",
    "palabras = df_palabras[\"Palabra\"].tolist()\n",
    "\n",
    "temperaturas = [0.2, 0.7] "
   ]
  },
  {
   "cell_type": "code",
   "execution_count": 3,
   "id": "db5da976",
   "metadata": {},
   "outputs": [
    {
     "data": {
      "text/plain": [
       "['sargatillo', 'sargazo']"
      ]
     },
     "execution_count": 3,
     "metadata": {},
     "output_type": "execute_result"
    }
   ],
   "source": [
    "palabras"
   ]
  },
  {
   "cell_type": "code",
   "execution_count": 4,
   "id": "1f3d21a3",
   "metadata": {},
   "outputs": [],
   "source": [
    "def obtener_definicion(palabra, temperatura):\n",
    "    prompt = f\"Con una temperatura de {temperatura}, da una definición de {palabra} (150 caracteres o menos) usable en un crucigrama. En tu respuesta no debe aparecer la palabra definida.\"\n",
    "    respuesta = openai.ChatCompletion.create(\n",
    "        model=\"gpt-3.5-turbo\",\n",
    "        messages=[\n",
    "            {\"role\": \"system\", \"content\": \"You are a helpful assistant that gives definitions.\"},\n",
    "            {\"role\": \"user\", \"content\": prompt},\n",
    "        ],\n",
    "        #timeout=100000,\n",
    "        request_timeout = 10000,\n",
    "        timeout = 7200\n",
    "    )\n",
    "    return respuesta.choices[0].message[\"content\"].strip()\n",
    "\n",
    "def obtener_frecuencia(palabra):\n",
    "    prompt = f\"Clasifica {palabra} según su frecuencia de uso en el lenguaje. Responde únicamente diciendo 'Alto', 'Medio' o 'Bajo'\"\n",
    "    respuesta = openai.ChatCompletion.create(\n",
    "        model=\"gpt-3.5-turbo\",\n",
    "        messages=[\n",
    "            {\"role\": \"system\", \"content\": \"You are a helpful assistant that classifies word frequencies.\"},\n",
    "            {\"role\": \"user\", \"content\": prompt},\n",
    "        ],\n",
    "        #timeout=100000,\n",
    "        request_timeout = 10000,\n",
    "        timeout = 7200\n",
    "    )\n",
    "    return respuesta.choices[0].message[\"content\"].strip()"
   ]
  },
  {
   "cell_type": "code",
   "execution_count": 5,
   "id": "5a9845e1",
   "metadata": {},
   "outputs": [],
   "source": [
    "definiciones_y_frecuencias = []\n",
    "for palabra in palabras:\n",
    "    definiciones = [obtener_definicion(palabra, temperatura) for temperatura in temperaturas]\n",
    "    frecuencia = obtener_frecuencia(palabra)\n",
    "    definiciones_y_frecuencias.append([palabra] + definiciones + [frecuencia])\n",
    "\n",
    "columnas = [\"Palabra\"] + [f\"Temperatura {temperatura}\" for temperatura in temperaturas] + [\"Frecuencia\"]\n"
   ]
  },
  {
   "cell_type": "code",
   "execution_count": 6,
   "id": "6871fb94",
   "metadata": {},
   "outputs": [],
   "source": [
    "df = pd.DataFrame(definiciones_y_frecuencias, columns=columnas)\n"
   ]
  },
  {
   "cell_type": "code",
   "execution_count": 7,
   "id": "5813af20",
   "metadata": {},
   "outputs": [
    {
     "data": {
      "text/html": [
       "<div>\n",
       "<style scoped>\n",
       "    .dataframe tbody tr th:only-of-type {\n",
       "        vertical-align: middle;\n",
       "    }\n",
       "\n",
       "    .dataframe tbody tr th {\n",
       "        vertical-align: top;\n",
       "    }\n",
       "\n",
       "    .dataframe thead th {\n",
       "        text-align: right;\n",
       "    }\n",
       "</style>\n",
       "<table border=\"1\" class=\"dataframe\">\n",
       "  <thead>\n",
       "    <tr style=\"text-align: right;\">\n",
       "      <th></th>\n",
       "      <th>Palabra</th>\n",
       "      <th>Temperatura 0.2</th>\n",
       "      <th>Temperatura 0.7</th>\n",
       "      <th>Frecuencia</th>\n",
       "    </tr>\n",
       "  </thead>\n",
       "  <tbody>\n",
       "    <tr>\n",
       "      <th>0</th>\n",
       "      <td>sargatillo</td>\n",
       "      <td>Pequeño reptil de aspecto escamoso, común en z...</td>\n",
       "      <td>Pequeño bicho acuático que habita en charcas y...</td>\n",
       "      <td>Bajo</td>\n",
       "    </tr>\n",
       "    <tr>\n",
       "      <th>1</th>\n",
       "      <td>sargazo</td>\n",
       "      <td>Alga marina que suele acumularse en grandes ca...</td>\n",
       "      <td>Alga marina parda de gran tamaño que flota en ...</td>\n",
       "      <td>Bajo</td>\n",
       "    </tr>\n",
       "  </tbody>\n",
       "</table>\n",
       "</div>"
      ],
      "text/plain": [
       "      Palabra                                    Temperatura 0.2  \\\n",
       "0  sargatillo  Pequeño reptil de aspecto escamoso, común en z...   \n",
       "1     sargazo  Alga marina que suele acumularse en grandes ca...   \n",
       "\n",
       "                                     Temperatura 0.7 Frecuencia  \n",
       "0  Pequeño bicho acuático que habita en charcas y...       Bajo  \n",
       "1  Alga marina parda de gran tamaño que flota en ...       Bajo  "
      ]
     },
     "execution_count": 7,
     "metadata": {},
     "output_type": "execute_result"
    }
   ],
   "source": [
    "df"
   ]
  },
  {
   "cell_type": "code",
   "execution_count": 95,
   "id": "c5a7545c",
   "metadata": {},
   "outputs": [],
   "source": [
    "df.to_csv(\"a1_TFM.csv\", index=False)"
   ]
  },
  {
   "cell_type": "code",
   "execution_count": null,
   "id": "eabf0b9f",
   "metadata": {},
   "outputs": [],
   "source": []
  }
 ],
 "metadata": {
  "kernelspec": {
   "display_name": "Python 3 (ipykernel)",
   "language": "python",
   "name": "python3"
  },
  "language_info": {
   "codemirror_mode": {
    "name": "ipython",
    "version": 3
   },
   "file_extension": ".py",
   "mimetype": "text/x-python",
   "name": "python",
   "nbconvert_exporter": "python",
   "pygments_lexer": "ipython3",
   "version": "3.9.12"
  }
 },
 "nbformat": 4,
 "nbformat_minor": 5
}
